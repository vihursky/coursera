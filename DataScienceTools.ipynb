{
  "cells": [
    {
      "cell_type": "markdown",
      "metadata": {
        "id": "f5bDudwuh8CE"
      },
      "source": [
        "# **Data Science Tools**"
      ]
    },
    {
      "cell_type": "markdown",
      "metadata": {
        "id": "GYrTqeWJiy9j"
      },
      "source": [
        "In this notebook, Data Science Tools and Ecosystem are summarized."
      ]
    },
    {
      "cell_type": "markdown",
      "metadata": {
        "id": "HiBrC4m2jGYl"
      },
      "source": [
        "Some of the popular languages that Data Scientists use are:\n",
        "\n",
        "\n",
        "\n",
        "1.   Python\n",
        "2.   R\n",
        "3.   java\n",
        "4.   C++\n",
        "\n"
      ]
    },
    {
      "cell_type": "markdown",
      "metadata": {
        "id": "8yZkUOMRjjpj"
      },
      "source": [
        "Some of the commonly used libraries used by Data Scientists include:\n",
        "\n",
        "\n",
        "\n",
        "1.   Scikit Learn\n",
        "1.   Keras\n",
        "2.   tensorflow\n",
        "2.   Pytorch\n"
      ]
    },
    {
      "cell_type": "markdown",
      "metadata": {
        "id": "pnOW9-w_kIHk"
      },
      "source": [
        "|Data Science Tools|\n",
        "|---|\n",
        "|SAS|\n",
        "|Apache Hadoop|\n",
        "|TensorFlow|\n",
        "|Pytorch|"
      ]
    },
    {
      "cell_type": "markdown",
      "metadata": {
        "id": "dmycXZslk7U9"
      },
      "source": [
        "###Below are a few examples of evaluating arithmetic expressions in Python"
      ]
    },
    {
      "cell_type": "code",
      "execution_count": 1,
      "metadata": {
        "colab": {
          "base_uri": "https://localhost:8080/"
        },
        "id": "ibfLKa2WhpSF",
        "outputId": "f2fa0b11-852d-4beb-ab0d-b0bdacc281a0"
      },
      "outputs": [
        {
          "data": {
            "text/plain": [
              "17"
            ]
          },
          "execution_count": 1,
          "metadata": {},
          "output_type": "execute_result"
        }
      ],
      "source": [
        "#This a simple arithmetic expression to mutiply then add integers\n",
        "\n",
        "(3*4)+5"
      ]
    },
    {
      "cell_type": "code",
      "execution_count": 3,
      "metadata": {
        "colab": {
          "base_uri": "https://localhost:8080/"
        },
        "id": "W51wOCN3lbRu",
        "outputId": "61f8aaa1-d4b6-431a-e970-ddf8a7eb4a1f"
      },
      "outputs": [
        {
          "data": {
            "text/plain": [
              "3.3333333333333335"
            ]
          },
          "execution_count": 3,
          "metadata": {},
          "output_type": "execute_result"
        }
      ],
      "source": [
        "#This will convert 200 minutes to hours by diving by 60\n",
        "\n",
        "200/60"
      ]
    },
    {
      "cell_type": "markdown",
      "metadata": {
        "id": "leXo8Z6tmPfL"
      },
      "source": [
        "__Objective__\n",
        "\n",
        "\n",
        "*   List popular languages for Data Science\n",
        "*   List popular libaries for Data Science\n",
        "\n",
        "*   List of popular DataScience Tools\n",
        "\n",
        "\n",
        "*   Commenting in a cell\n",
        "\n",
        "\n",
        "\n",
        "\n",
        "\n",
        "\n"
      ]
    },
    {
      "cell_type": "markdown",
      "metadata": {
        "id": "xz5HxteJm5sK"
      },
      "source": [
        "##Author\n",
        "Vihursky"
      ]
    },
    {
      "cell_type": "code",
      "execution_count": null,
      "metadata": {
        "id": "wKbm6u2zl4QV"
      },
      "outputs": [],
      "source": []
    }
  ],
  "metadata": {
    "colab": {
      "provenance": []
    },
    "kernelspec": {
      "display_name": "Python 3",
      "name": "python3"
    },
    "language_info": {
      "name": "python"
    }
  },
  "nbformat": 4,
  "nbformat_minor": 0
}
